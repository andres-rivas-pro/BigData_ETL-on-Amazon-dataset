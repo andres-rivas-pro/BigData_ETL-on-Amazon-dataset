{
  "nbformat": 4,
  "nbformat_minor": 0,
  "metadata": {
    "colab": {
      "name": "Amazon_Reriews_ETL_process.ipynb",
      "provenance": [],
      "collapsed_sections": []
    },
    "kernelspec": {
      "name": "python3",
      "display_name": "Python 3"
    }
  },
  "cells": [
    {
      "cell_type": "markdown",
      "metadata": {
        "id": "zxDEuYcNvRq0",
        "colab_type": "text"
      },
      "source": [
        "# Project Objectives\n",
        "Perform ETL in the cloud AND analyze data using Natural Language Processing (NLP) pipeline including Machine Learning.\n",
        "part_2 in the file 'Amazon_Reviews_NLP_ML.ipynb'"
      ]
    },
    {
      "cell_type": "markdown",
      "metadata": {
        "id": "OfVXTPfUfDbf",
        "colab_type": "text"
      },
      "source": [
        "## **Part_1: ETL**:\n",
        "- Extracting datasets from AWS S3, \n",
        "- Transforming by pyspark in Colab, \n",
        "- Loading and writting directly to AWS RDS via jdbc."
      ]
    },
    {
      "cell_type": "code",
      "metadata": {
        "id": "1714IstBfSY7",
        "colab_type": "code",
        "colab": {
          "base_uri": "https://localhost:8080/",
          "height": 208
        },
        "outputId": "11c13bbe-93a2-457e-a59a-c534a8b05c58"
      },
      "source": [
        "# Install Java, Spark, Findspark and download a Postgresql driver\n",
        "!apt-get install openjdk-8-jdk-headless -qq > /dev/null\n",
        "!wget -q http://www-us.apache.org/dist/spark/spark-2.4.5/spark-2.4.5-bin-hadoop2.7.tgz\n",
        "!tar xf spark-2.4.5-bin-hadoop2.7.tgz\n",
        "!pip install -q findspark\n",
        "\n",
        "!wget https://jdbc.postgresql.org/download/postgresql-42.2.9.jar\n",
        "\n",
        "# Set Environment Variables\n",
        "import os\n",
        "os.environ[\"JAVA_HOME\"] = \"/usr/lib/jvm/java-8-openjdk-amd64\"\n",
        "os.environ[\"SPARK_HOME\"] = \"/content/spark-2.4.5-bin-hadoop2.7\"\n",
        "\n",
        "# Start a SparkSession\n",
        "import findspark\n",
        "findspark.init()"
      ],
      "execution_count": 1,
      "outputs": [
        {
          "output_type": "stream",
          "text": [
            "--2020-06-30 12:02:39--  https://jdbc.postgresql.org/download/postgresql-42.2.9.jar\n",
            "Resolving jdbc.postgresql.org (jdbc.postgresql.org)... 72.32.157.228, 2001:4800:3e1:1::228\n",
            "Connecting to jdbc.postgresql.org (jdbc.postgresql.org)|72.32.157.228|:443... connected.\n",
            "HTTP request sent, awaiting response... 200 OK\n",
            "Length: 914037 (893K) [application/java-archive]\n",
            "Saving to: ‘postgresql-42.2.9.jar’\n",
            "\n",
            "\rpostgresql-42.2.9.j   0%[                    ]       0  --.-KB/s               \rpostgresql-42.2.9.j 100%[===================>] 892.61K  4.72MB/s    in 0.2s    \n",
            "\n",
            "2020-06-30 12:02:40 (4.72 MB/s) - ‘postgresql-42.2.9.jar’ saved [914037/914037]\n",
            "\n"
          ],
          "name": "stdout"
        }
      ]
    },
    {
      "cell_type": "code",
      "metadata": {
        "id": "v4bWjPtXf27W",
        "colab_type": "code",
        "colab": {}
      },
      "source": [
        "# Create a spark session, configured with Posetgres driver\n",
        "from pyspark.sql import SparkSession\n",
        "spark = SparkSession.builder.appName('AmazonETL')\\\n",
        "        .config(\"spark.driver.extraClassPath\", \"/content/postgresql-42.2.9.jar\")\\\n",
        "        .getOrCreate()"
      ],
      "execution_count": null,
      "outputs": []
    },
    {
      "cell_type": "markdown",
      "metadata": {
        "id": "A8con0m2gHVb",
        "colab_type": "text"
      },
      "source": [
        "#### EXTRACT\n",
        "Connect to data storage, extract d3 data into a spark DataFrame"
      ]
    },
    {
      "cell_type": "code",
      "metadata": {
        "id": "SwVyUK2KgDNt",
        "colab_type": "code",
        "colab": {
          "base_uri": "https://localhost:8080/",
          "height": 479
        },
        "outputId": "5452fe56-71d3-4dbf-b7b7-ace39956a728"
      },
      "source": [
        "# Read in data from S3 Bukets\n",
        "from pyspark import SparkFiles\n",
        "\n",
        "url= \"https://s3.amazonaws.com/amazon-reviews-pds/tsv/amazon_reviews_us_Beauty_v1_00.tsv.gz\"\n",
        "spark.sparkContext.addFile(url)\n",
        "df = spark.read.csv(SparkFiles.get('amazon_reviews_us_Beauty_v1_00.tsv.gz'), sep='\\t', header=True, inferSchema = True)\n",
        "df.show(n=20,truncate=False)\n"
      ],
      "execution_count": null,
      "outputs": [
        {
          "output_type": "stream",
          "text": [
            "+-----------+-----------+--------------+----------+--------------+----------------------------------------------------------------------------------------------+----------------+-----------+-------------+-----------+----+-----------------+-------------------------------------------------------+---------------------------------------------------------------------------------------------------------------------------------------------------------------------------------------------------------------------------------------------------------------------------------------------------------------------------------------------------------------------------------------------------------------------------------------+-------------------+\n",
            "|marketplace|customer_id|review_id     |product_id|product_parent|product_title                                                                                 |product_category|star_rating|helpful_votes|total_votes|vine|verified_purchase|review_headline                                        |review_body                                                                                                                                                                                                                                                                                                                                                                                                                            |review_date        |\n",
            "+-----------+-----------+--------------+----------+--------------+----------------------------------------------------------------------------------------------+----------------+-----------+-------------+-----------+----+-----------------+-------------------------------------------------------+---------------------------------------------------------------------------------------------------------------------------------------------------------------------------------------------------------------------------------------------------------------------------------------------------------------------------------------------------------------------------------------------------------------------------------------+-------------------+\n",
            "|US         |1797882    |R3I2DHQBR577SS|B001ANOOOE|2102612       |The Naked Bee Vitmin C Moisturizing Sunscreen SPF 30, 5.5 oz (163 ml.)                        |Beauty          |5          |0            |0          |N   |Y                |Five Stars                                             |Love this, excellent sun block!!                                                                                                                                                                                                                                                                                                                                                                                                       |2015-08-31 00:00:00|\n",
            "|US         |18381298   |R1QNE9NQFJC2Y4|B0016J22EQ|106393691     |Alba Botanica Sunless Tanning Lotion, 4 Ounce                                                 |Beauty          |5          |0            |0          |N   |Y                |Thank you Alba Bontanica!                              |The great thing about this cream is that it doesn't smell weird like all those chemical laden ones.  I get a nice healthy un-fake looking tan that isn't orange and it makes my skin soft too.                                                                                                                                                                                                                                         |2015-08-31 00:00:00|\n",
            "|US         |19242472   |R3LIDG2Q4LJBAO|B00HU6UQAG|375449471     |Elysee Infusion Skin Therapy Elixir, 2oz.                                                     |Beauty          |5          |0            |0          |N   |Y                |Five Stars                                             |Great Product, I'm 65 years old and this is all it claims to be!                                                                                                                                                                                                                                                                                                                                                                       |2015-08-31 00:00:00|\n",
            "|US         |19551372   |R3KSZHPAEVPEAL|B002HWS7RM|255651889     |Diane D722 Color, Perm And Conditioner Processing Caps - 100-Pack - Clear                     |Beauty          |5          |0            |0          |N   |Y                |GOOD DEAL!                                             |I use them as shower caps & conditioning caps. I like that they're in bulk. It saves a lot of money.                                                                                                                                                                                                                                                                                                                                   |2015-08-31 00:00:00|\n",
            "|US         |14802407   |RAI2OIG50KZ43 |B00SM99KWU|116158747     |Biore UV Aqua Rich Watery Essence SPF50+/PA++++ (pack of 2)                                   |Beauty          |5          |0            |0          |N   |Y                |this soaks in quick and provides a nice base for makeup|This is my go-to daily sunblock. It leaves no white cast at all and has a clean, pleasant scent. If you're a makeup wearer, this soaks in quick and provides a nice base for makeup. I've been using this brand for over a year. With daily use, this tube will last you a couple months.                                                                                                                                              |2015-08-31 00:00:00|\n",
            "|US         |2909389    |R1R30FA4RB5P54|B000NYL1Z6|166146615     |Murad Clarifying Cleanser                                                                     |Beauty          |4          |0            |0          |N   |Y                |Four Stars                                             |Good                                                                                                                                                                                                                                                                                                                                                                                                                                   |2015-08-31 00:00:00|\n",
            "|US         |19397215   |R30IJKCGJBGPJH|B001SYWTFG|111742328     |CoverGirl Queen Collection Perfect Point Plus Eyeliner Black Onyx 200                         |Beauty          |5          |0            |0          |N   |Y                |Good buy                                               |Great eyeliner, does run just a little bit at corners at times, but overall, it does keep on your eyes all day long.                                                                                                                                                                                                                                                                                                                   |2015-08-31 00:00:00|\n",
            "|US         |3195210    |R18GLJJPVQ1OVH|B005F2EVMQ|255803087     |Bifesta Mandom Eye Makeup Remover, 145ml                                                      |Beauty          |5          |0            |0          |N   |Y                |Five Stars                                             |Best makeup remover！                                                                                                                                                                                                                                                                                                                                                                                                                  |2015-08-31 00:00:00|\n",
            "|US         |52216383   |R8TVYIJXLYJT0 |B00M1SUW7K|246816549     |Can You Handlebar All-Natural Secondary Moustache Wax : Extra Strength, Firm Hold             |Beauty          |5          |0            |0          |N   |Y                |Tame the wild mustache                                 |This is a great product. I'm on my latest stab at a major beard, and I always seem to start growing them during the hottest months. My mustache is going through a particularly awkward phase of growth, and this wax really helps keep it in place, out of the way. I look neater and I can actually eat and drink again without collecting a big mess. If you're going to get this, do yourself a favor and get a good mustache comb.|2015-08-31 00:00:00|\n",
            "|US         |10278216   |R1CJGF6M3PVHEZ|B001KYQA1S|9612905       |Maybelline Great Lash Washable Mascara, Clear [110], 1 ea                                     |Beauty          |1          |0            |2          |N   |Y                |but it's like having nothing on them at all            |I thought it would darken the lashes even though it's clear, but it's like having nothing on them at all. Sadly I threw it away.                                                                                                                                                                                                                                                                                                       |2015-08-31 00:00:00|\n",
            "|US         |24655453   |R2A30ALEGLMCGN|B00SAQ9DZY|292127037     |12 New, High Quality, Amber 2 ml (5/8 Dram) Glass Bottles, with Orifice Reducer and Black Cap.|Beauty          |4          |1            |1          |N   |Y                |Good Product                                           |These are great for small mixtures for EO's, especially for traveling.  I only gave this 4 stars because of the orifice reducer.  The hole is so small it is hard to get the oil out.  Just needs to be slightly bigger.                                                                                                                                                                                                               |2015-08-31 00:00:00|\n",
            "|US         |30788223   |R134GP1Y3EQZ1L|B00HFQQ0VU|311309827     |Waterpik Aquarius Water Flosser                                                               |Beauty          |5          |0            |0          |N   |Y                |Optimum Oral Health                                    |Just got this.  Nice size and very compact.  I am looking forward to the gum massaging.  I wore out my last model.                                                                                                                                                                                                                                                                                                                     |2015-08-31 00:00:00|\n",
            "|US         |11257536   |R6CE3SOIUJGP4 |B00PYL8MAA|390030149     |Proganix Agave Nectar Plus Silica Curling Cream Plus Defrizzant, 6 Ounce                      |Beauty          |4          |1            |1          |N   |N                |Love this cream !                                      |Wish I had discovered this years ago ! Leaves my curles super defined and soft !!!. I still need to put on gel or spray for it to last though but it is super recommend it!                                                                                                                                                                                                                                                            |2015-08-31 00:00:00|\n",
            "|US         |29605778   |R37CDLQZUPDZVM|B00D9NV2D4|794858888     |Shea Butter                                                                                   |Beauty          |5          |0            |0          |N   |Y                |It works so much better than store bought lotion       |I bought this to make my own lotion. I mixed the shea butter and coconut oil together. It works so much better than store bought lotion! I want to get some raw cocoa butter to mix in with the next batch.                                                                                                                                                                                                                            |2015-08-31 00:00:00|\n",
            "|US         |41238422   |R1KH9XCK6GYT26|B008Y9M412|874223919     |Etude House Fresh Cherry Tint # 02 RD301                                                      |Beauty          |5          |0            |0          |N   |Y                |Five Stars                                             |The tint is awesome but seller don't even send one sample.                                                                                                                                                                                                                                                                                                                                                                             |2015-08-31 00:00:00|\n",
            "|US         |23620123   |R3I4BQ6654MQNA|B00FWXBLHG|464001209     |Vintage Lil' Sponge Holder                                                                    |Beauty          |5          |1            |1          |N   |Y                |Great product, fast delivery                           |I'm in love with this! It's so unique and fits with my decor beautifully.  Couldn't ask for a better seller.  Received product before date promised.                                                                                                                                                                                                                                                                                   |2015-08-31 00:00:00|\n",
            "|US         |25564245   |R3LUPG356F1D40|B003KL8CB0|328680790     |Jenna Jameson Heartbreaker Perfume parent                                                     |Beauty          |5          |3            |3          |N   |N                |Does not smell cheap!                                  |I was given this product in exchange for a review. All I can say is wow!!!! I love perfume, and this is a great scent! The notes are a little heavy but i really like it overall. I get headaches easily, but this doesnt seem to do that with me. Does not smell cheap!!! It is a wonderful fragrance for not a lot of money! I love it, you should give it a try!                                                                    |2015-08-31 00:00:00|\n",
            "|US         |801375     |R3HNVRTHL9S2ZB|B006R2LNV0|620737389     |Korean Cosmetics_Isa Knox X2D2 Original Hydra Serum_50ml                                      |Beauty          |5          |0            |0          |N   |N                |Five Stars                                             |Magical everybody noticed a skin change right away                                                                                                                                                                                                                                                                                                                                                                                     |2015-08-31 00:00:00|\n",
            "|US         |9478730    |R5HKL5RD4IUT8 |B00SMIIR0W|351973146     |Schick Hydro Silk TrimStyle Moisturizing Razor                                                |Beauty          |5          |0            |0          |N   |Y                |Love this Razor/Trimmer                                |Works fantastic! The razor leaves my legs really smooth unlike most disposable razors I've used. The razor runs acrossed your skin so smoothly you don't feel like its doing anything. The trimmer is a trimmer it trims, not meant for down to the skin shave but it gets close enough so you can just run the razor through and boom smooth!                                                                                         |2015-08-31 00:00:00|\n",
            "|US         |18418407   |R37Z8NBTHPR853|B003UKKH6O|10034795      |Oral-B Vitality Prowhite Rechargeable Electric Toothbrush 1 Count                             |Beauty          |5          |0            |0          |N   |Y                |Five Stars                                             |excellent battery tooth brush                                                                                                                                                                                                                                                                                                                                                                                                          |2015-08-31 00:00:00|\n",
            "+-----------+-----------+--------------+----------+--------------+----------------------------------------------------------------------------------------------+----------------+-----------+-------------+-----------+----+-----------------+-------------------------------------------------------+---------------------------------------------------------------------------------------------------------------------------------------------------------------------------------------------------------------------------------------------------------------------------------------------------------------------------------------------------------------------------------------------------------------------------------------+-------------------+\n",
            "only showing top 20 rows\n",
            "\n"
          ],
          "name": "stdout"
        }
      ]
    },
    {
      "cell_type": "markdown",
      "metadata": {
        "id": "h3LjEeYHjjLu",
        "colab_type": "text"
      },
      "source": [
        "#### TRANSFORM\n",
        "\n",
        "Use pyspark to cast proper data types, drop null or NaN, and seperate into 4 tables to match RDS schema"
      ]
    },
    {
      "cell_type": "code",
      "metadata": {
        "id": "MGBSbMywoa98",
        "colab_type": "code",
        "colab": {
          "base_uri": "https://localhost:8080/",
          "height": 71
        },
        "outputId": "9d7703d7-fc46-42bc-ef0a-48e352d87be2"
      },
      "source": [
        "# original dataset information\n",
        "print((df.count(), len(df.columns)))\n",
        "# check data types\n",
        "df.printSchema"
      ],
      "execution_count": null,
      "outputs": [
        {
          "output_type": "stream",
          "text": [
            "(5115666, 15)\n"
          ],
          "name": "stdout"
        },
        {
          "output_type": "execute_result",
          "data": {
            "text/plain": [
              "<bound method DataFrame.printSchema of DataFrame[marketplace: string, customer_id: int, review_id: string, product_id: string, product_parent: int, product_title: string, product_category: string, star_rating: string, helpful_votes: int, total_votes: int, vine: string, verified_purchase: string, review_headline: string, review_body: string, review_date: timestamp]>"
            ]
          },
          "metadata": {
            "tags": []
          },
          "execution_count": 5
        }
      ]
    },
    {
      "cell_type": "code",
      "metadata": {
        "id": "HQRylLdBm7Jk",
        "colab_type": "code",
        "colab": {
          "base_uri": "https://localhost:8080/",
          "height": 54
        },
        "outputId": "68967bed-db5b-485a-d68f-71fdf1e9fd58"
      },
      "source": [
        "# change 2 columns data types (star_rating, review_date)\n",
        "from pyspark.sql.types import IntegerType, DateType\n",
        "from pyspark.sql import Column\n",
        "casted_df = df.withColumn('star_rating',df['star_rating'].cast(IntegerType()))\n",
        "casted_df = df.withColumn('review_date',df['review_date'].cast(DateType()))\n",
        "casted_df.printSchema"
      ],
      "execution_count": null,
      "outputs": [
        {
          "output_type": "execute_result",
          "data": {
            "text/plain": [
              "<bound method DataFrame.printSchema of DataFrame[marketplace: string, customer_id: int, review_id: string, product_id: string, product_parent: int, product_title: string, product_category: string, star_rating: string, helpful_votes: int, total_votes: int, vine: string, verified_purchase: string, review_headline: string, review_body: string, review_date: date]>"
            ]
          },
          "metadata": {
            "tags": []
          },
          "execution_count": 6
        }
      ]
    },
    {
      "cell_type": "code",
      "metadata": {
        "id": "Ioy01GGopJbi",
        "colab_type": "code",
        "colab": {
          "base_uri": "https://localhost:8080/",
          "height": 34
        },
        "outputId": "b0365790-83bf-487e-a382-756b6470a316"
      },
      "source": [
        "# drop any rows with null or NaN\n",
        "droped_df = casted_df.dropna()\n",
        "droped_df.count()"
      ],
      "execution_count": null,
      "outputs": [
        {
          "output_type": "execute_result",
          "data": {
            "text/plain": [
              "5114733"
            ]
          },
          "metadata": {
            "tags": []
          },
          "execution_count": 7
        }
      ]
    },
    {
      "cell_type": "code",
      "metadata": {
        "id": "moLaw9PCoreL",
        "colab_type": "code",
        "colab": {
          "base_uri": "https://localhost:8080/",
          "height": 34
        },
        "outputId": "1fa05d3d-7005-491d-9d66-ab9d71b7a640"
      },
      "source": [
        "# drop duplicate rows\n",
        "droped_df.dropDuplicates().count()"
      ],
      "execution_count": null,
      "outputs": [
        {
          "output_type": "execute_result",
          "data": {
            "text/plain": [
              "5114733"
            ]
          },
          "metadata": {
            "tags": []
          },
          "execution_count": 37
        }
      ]
    },
    {
      "cell_type": "code",
      "metadata": {
        "id": "qd8AnOydp9GV",
        "colab_type": "code",
        "colab": {}
      },
      "source": [
        "# Seperate into 4 dataframes\n",
        "review_id_df = droped_df.select('review_id', 'customer_id', 'product_id', 'product_parent','review_date')\n",
        "\n",
        "clean_products_df = droped_df.select('product_id','product_title')\n",
        "\n",
        "clean_customers_df = droped_df.select('customer_id')\n",
        "\n",
        "vine_df = droped_df.select('review_id', 'star_rating','helpful_votes','total_votes','vine')\n"
      ],
      "execution_count": null,
      "outputs": []
    },
    {
      "cell_type": "code",
      "metadata": {
        "id": "WaWXKkOHOmxJ",
        "colab_type": "code",
        "colab": {
          "base_uri": "https://localhost:8080/",
          "height": 34
        },
        "outputId": "ab8fefa0-31d8-4a37-896a-8da46401b7d0"
      },
      "source": [
        "# manipulate products_df uniquely to match RDS structure\n",
        "products_df = clean_products_df.select('product_id','product_title').distinct()\n",
        "products_df.count()"
      ],
      "execution_count": null,
      "outputs": [
        {
          "output_type": "execute_result",
          "data": {
            "text/plain": [
              "588771"
            ]
          },
          "metadata": {
            "tags": []
          },
          "execution_count": 17
        }
      ]
    },
    {
      "cell_type": "code",
      "metadata": {
        "id": "OIytJuwXRLDd",
        "colab_type": "code",
        "colab": {
          "base_uri": "https://localhost:8080/",
          "height": 459
        },
        "outputId": "ba50733d-9116-4e11-f6da-7f0fe09aa7ff"
      },
      "source": [
        "# manipulate customer dataframer to get unique customer id and count\n",
        "\n",
        "customers_df = clean_customers_df.groupBy('customer_id').count()\n",
        "customers_df = customers_df.withColumnRenamed('count','customer_count')\n",
        "\n",
        "# descending roder \n",
        "customers_df.orderBy(customers_df['customer_count'].desc()).show()\n",
        "\n"
      ],
      "execution_count": null,
      "outputs": [
        {
          "output_type": "stream",
          "text": [
            "+-----------+--------------+\n",
            "|customer_id|customer_count|\n",
            "+-----------+--------------+\n",
            "|   36771761|           871|\n",
            "|   32405532|           721|\n",
            "|   10942711|           685|\n",
            "|   37446839|           587|\n",
            "|   50199793|           564|\n",
            "|   12201275|           519|\n",
            "|    4808156|           508|\n",
            "|   48233483|           440|\n",
            "|   52520442|           378|\n",
            "|   39789300|           346|\n",
            "|   18609243|           343|\n",
            "|   37337835|           337|\n",
            "|   42799904|           314|\n",
            "|   21012418|           288|\n",
            "|   10592389|           284|\n",
            "|   52433525|           250|\n",
            "|   51126995|           245|\n",
            "|   52824002|           235|\n",
            "|   18715781|           230|\n",
            "|   31120312|           219|\n",
            "+-----------+--------------+\n",
            "only showing top 20 rows\n",
            "\n"
          ],
          "name": "stdout"
        }
      ]
    },
    {
      "cell_type": "code",
      "metadata": {
        "id": "Z7F_g4hWk2xs",
        "colab_type": "code",
        "colab": {
          "base_uri": "https://localhost:8080/",
          "height": 34
        },
        "outputId": "ad3ccbdc-af2d-43d2-d81b-11fe51ed03e3"
      },
      "source": [
        "# double confirm star_rating data type is int\n",
        "vine_df =vine_df.withColumn('star_rating',df['star_rating'].cast(IntegerType()))\n",
        "vine_df.printSchema"
      ],
      "execution_count": null,
      "outputs": [
        {
          "output_type": "execute_result",
          "data": {
            "text/plain": [
              "<bound method DataFrame.printSchema of DataFrame[review_id: string, star_rating: int, helpful_votes: int, total_votes: int, vine: string]>"
            ]
          },
          "metadata": {
            "tags": []
          },
          "execution_count": 35
        }
      ]
    },
    {
      "cell_type": "markdown",
      "metadata": {
        "id": "JCn8DFUjvwea",
        "colab_type": "text"
      },
      "source": [
        "#### Load\n",
        "Connect pyspark to RDS Database by setting up configure.\n",
        "Write dataframes directly to RDS corresponding tables."
      ]
    },
    {
      "cell_type": "code",
      "metadata": {
        "id": "6o8crj_4wyx3",
        "colab_type": "code",
        "colab": {
          "resources": {
            "http://localhost:8080/nbextensions/google.colab/files.js": {
              "data": "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",
              "ok": true,
              "headers": [
                [
                  "content-type",
                  "application/javascript"
                ]
              ],
              "status": 200,
              "status_text": ""
            }
          },
          "base_uri": "https://localhost:8080/",
          "height": 56
        },
        "outputId": "82948191-e415-404d-86ca-f38b695a25d9"
      },
      "source": [
        "# upload RDS password file\n",
        "from google.colab import files\n",
        "files.upload()"
      ],
      "execution_count": 2,
      "outputs": [
        {
          "output_type": "display_data",
          "data": {
            "text/html": [
              "\n",
              "     <input type=\"file\" id=\"files-3139323e-e65a-40c8-bf0a-1c527f27b12a\" name=\"files[]\" multiple disabled\n",
              "        style=\"border:none\" />\n",
              "     <output id=\"result-3139323e-e65a-40c8-bf0a-1c527f27b12a\">\n",
              "      Upload widget is only available when the cell has been executed in the\n",
              "      current browser session. Please rerun this cell to enable.\n",
              "      </output>\n",
              "      <script src=\"/nbextensions/google.colab/files.js\"></script> "
            ],
            "text/plain": [
              "<IPython.core.display.HTML object>"
            ]
          },
          "metadata": {
            "tags": []
          }
        },
        {
          "output_type": "execute_result",
          "data": {
            "text/plain": [
              "{}"
            ]
          },
          "metadata": {
            "tags": []
          },
          "execution_count": 2
        }
      ]
    },
    {
      "cell_type": "code",
      "metadata": {
        "id": "rWWrDa7CZbAK",
        "colab_type": "code",
        "colab": {}
      },
      "source": [
        "# set up config parameter\n",
        "from RDS_config import password\n",
        "\n",
        "mode = \"append\"\n",
        "jdbc_url=\"jdbc:postgresql://dataviz.caktah2xv07p.us-east-2.rds.amazonaws.com:5432/Amazon_reviews\"\n",
        "config = {\"user\":\"postgres\",\n",
        "          \"password\": password,  \n",
        "          \"driver\":\"org.postgresql.Driver\"}"
      ],
      "execution_count": null,
      "outputs": []
    },
    {
      "cell_type": "code",
      "metadata": {
        "id": "t7-jWOkka02k",
        "colab_type": "code",
        "colab": {}
      },
      "source": [
        "# write DataFrame into RDS directly via JDBC\n",
        "\n",
        "customers_df.write.jdbc(url=jdbc_url,\n",
        "                         table ='customers', \n",
        "                         mode=mode, properties = config)\n"
      ],
      "execution_count": null,
      "outputs": []
    },
    {
      "cell_type": "code",
      "metadata": {
        "id": "Fi1OuvVxar74",
        "colab_type": "code",
        "colab": {}
      },
      "source": [
        "products_df.write.jdbc(url=jdbc_url,\n",
        "                         table ='products', \n",
        "                         mode=mode, properties = config)\n"
      ],
      "execution_count": null,
      "outputs": []
    },
    {
      "cell_type": "code",
      "metadata": {
        "id": "L4eshIQGaQtl",
        "colab_type": "code",
        "colab": {}
      },
      "source": [
        "review_id_df.write.jdbc(url=jdbc_url,\n",
        "                         table ='review_id_table', \n",
        "                         mode=mode, properties = config)\n"
      ],
      "execution_count": null,
      "outputs": []
    },
    {
      "cell_type": "code",
      "metadata": {
        "id": "qyWh8TXdawGN",
        "colab_type": "code",
        "colab": {}
      },
      "source": [
        "vine_df.write.jdbc(url=jdbc_url,\n",
        "                         table ='vine_table', \n",
        "                         mode=mode, properties = config)"
      ],
      "execution_count": null,
      "outputs": []
    }
  ]
}